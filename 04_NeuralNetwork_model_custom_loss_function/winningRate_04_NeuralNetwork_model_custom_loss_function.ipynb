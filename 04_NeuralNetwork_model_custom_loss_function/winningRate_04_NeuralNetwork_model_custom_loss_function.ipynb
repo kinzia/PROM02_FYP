{
 "cells": [
  {
   "cell_type": "code",
   "execution_count": 1,
   "metadata": {},
   "outputs": [],
   "source": [
    "import pandas as pd\n",
    "import numpy as np"
   ]
  },
  {
   "cell_type": "code",
   "execution_count": 2,
   "metadata": {},
   "outputs": [
    {
     "data": {
      "text/html": [
       "<div>\n",
       "<style scoped>\n",
       "    .dataframe tbody tr th:only-of-type {\n",
       "        vertical-align: middle;\n",
       "    }\n",
       "\n",
       "    .dataframe tbody tr th {\n",
       "        vertical-align: top;\n",
       "    }\n",
       "\n",
       "    .dataframe thead th {\n",
       "        text-align: right;\n",
       "    }\n",
       "</style>\n",
       "<table border=\"1\" class=\"dataframe\">\n",
       "  <thead>\n",
       "    <tr style=\"text-align: right;\">\n",
       "      <th></th>\n",
       "      <th>Unnamed: 0</th>\n",
       "      <th>Date</th>\n",
       "      <th>open</th>\n",
       "      <th>close</th>\n",
       "      <th>real_pct</th>\n",
       "      <th>predictions</th>\n",
       "      <th>isBuy</th>\n",
       "      <th>signal</th>\n",
       "      <th>bsPrice</th>\n",
       "      <th>point</th>\n",
       "    </tr>\n",
       "  </thead>\n",
       "  <tbody>\n",
       "    <tr>\n",
       "      <th>0</th>\n",
       "      <td>0</td>\n",
       "      <td>2011-06-20</td>\n",
       "      <td>1271.50</td>\n",
       "      <td>1278.36</td>\n",
       "      <td>0.013423</td>\n",
       "      <td>0.001800</td>\n",
       "      <td>1</td>\n",
       "      <td>buy</td>\n",
       "      <td>1278.40</td>\n",
       "      <td>0.00</td>\n",
       "    </tr>\n",
       "    <tr>\n",
       "      <th>1</th>\n",
       "      <td>1</td>\n",
       "      <td>2011-06-21</td>\n",
       "      <td>1278.40</td>\n",
       "      <td>1295.52</td>\n",
       "      <td>-0.006468</td>\n",
       "      <td>0.004879</td>\n",
       "      <td>1</td>\n",
       "      <td>hold</td>\n",
       "      <td>0.00</td>\n",
       "      <td>0.00</td>\n",
       "    </tr>\n",
       "    <tr>\n",
       "      <th>2</th>\n",
       "      <td>2</td>\n",
       "      <td>2011-06-22</td>\n",
       "      <td>1295.48</td>\n",
       "      <td>1287.14</td>\n",
       "      <td>-0.002828</td>\n",
       "      <td>0.010689</td>\n",
       "      <td>1</td>\n",
       "      <td>hold</td>\n",
       "      <td>0.00</td>\n",
       "      <td>0.00</td>\n",
       "    </tr>\n",
       "    <tr>\n",
       "      <th>3</th>\n",
       "      <td>3</td>\n",
       "      <td>2011-06-23</td>\n",
       "      <td>1286.60</td>\n",
       "      <td>1283.50</td>\n",
       "      <td>-0.011726</td>\n",
       "      <td>-0.000440</td>\n",
       "      <td>0</td>\n",
       "      <td>sell</td>\n",
       "      <td>1283.04</td>\n",
       "      <td>4.64</td>\n",
       "    </tr>\n",
       "    <tr>\n",
       "      <th>4</th>\n",
       "      <td>4</td>\n",
       "      <td>2011-06-24</td>\n",
       "      <td>1283.04</td>\n",
       "      <td>1268.45</td>\n",
       "      <td>0.009184</td>\n",
       "      <td>0.001738</td>\n",
       "      <td>1</td>\n",
       "      <td>buy</td>\n",
       "      <td>1268.44</td>\n",
       "      <td>0.00</td>\n",
       "    </tr>\n",
       "    <tr>\n",
       "      <th>...</th>\n",
       "      <td>...</td>\n",
       "      <td>...</td>\n",
       "      <td>...</td>\n",
       "      <td>...</td>\n",
       "      <td>...</td>\n",
       "      <td>...</td>\n",
       "      <td>...</td>\n",
       "      <td>...</td>\n",
       "      <td>...</td>\n",
       "      <td>...</td>\n",
       "    </tr>\n",
       "    <tr>\n",
       "      <th>1891</th>\n",
       "      <td>1891</td>\n",
       "      <td>2018-12-24</td>\n",
       "      <td>2400.56</td>\n",
       "      <td>2351.10</td>\n",
       "      <td>0.049594</td>\n",
       "      <td>-0.013095</td>\n",
       "      <td>0</td>\n",
       "      <td>hold</td>\n",
       "      <td>0.00</td>\n",
       "      <td>0.00</td>\n",
       "    </tr>\n",
       "    <tr>\n",
       "      <th>1892</th>\n",
       "      <td>1892</td>\n",
       "      <td>2018-12-26</td>\n",
       "      <td>2363.12</td>\n",
       "      <td>2467.70</td>\n",
       "      <td>0.008563</td>\n",
       "      <td>-0.003983</td>\n",
       "      <td>0</td>\n",
       "      <td>hold</td>\n",
       "      <td>0.00</td>\n",
       "      <td>0.00</td>\n",
       "    </tr>\n",
       "    <tr>\n",
       "      <th>1893</th>\n",
       "      <td>1893</td>\n",
       "      <td>2018-12-27</td>\n",
       "      <td>2442.50</td>\n",
       "      <td>2488.83</td>\n",
       "      <td>-0.001242</td>\n",
       "      <td>0.005984</td>\n",
       "      <td>1</td>\n",
       "      <td>buy</td>\n",
       "      <td>2498.77</td>\n",
       "      <td>0.00</td>\n",
       "    </tr>\n",
       "    <tr>\n",
       "      <th>1894</th>\n",
       "      <td>1894</td>\n",
       "      <td>2018-12-28</td>\n",
       "      <td>2498.77</td>\n",
       "      <td>2485.74</td>\n",
       "      <td>0.008492</td>\n",
       "      <td>-0.000650</td>\n",
       "      <td>0</td>\n",
       "      <td>sell</td>\n",
       "      <td>2498.94</td>\n",
       "      <td>0.17</td>\n",
       "    </tr>\n",
       "    <tr>\n",
       "      <th>1895</th>\n",
       "      <td>1895</td>\n",
       "      <td>2018-12-31</td>\n",
       "      <td>2498.94</td>\n",
       "      <td>2506.85</td>\n",
       "      <td>0.001269</td>\n",
       "      <td>0.001597</td>\n",
       "      <td>1</td>\n",
       "      <td>buy</td>\n",
       "      <td>2476.96</td>\n",
       "      <td>0.00</td>\n",
       "    </tr>\n",
       "  </tbody>\n",
       "</table>\n",
       "<p>1896 rows × 10 columns</p>\n",
       "</div>"
      ],
      "text/plain": [
       "      Unnamed: 0        Date     open    close  real_pct  predictions  isBuy  \\\n",
       "0              0  2011-06-20  1271.50  1278.36  0.013423     0.001800      1   \n",
       "1              1  2011-06-21  1278.40  1295.52 -0.006468     0.004879      1   \n",
       "2              2  2011-06-22  1295.48  1287.14 -0.002828     0.010689      1   \n",
       "3              3  2011-06-23  1286.60  1283.50 -0.011726    -0.000440      0   \n",
       "4              4  2011-06-24  1283.04  1268.45  0.009184     0.001738      1   \n",
       "...          ...         ...      ...      ...       ...          ...    ...   \n",
       "1891        1891  2018-12-24  2400.56  2351.10  0.049594    -0.013095      0   \n",
       "1892        1892  2018-12-26  2363.12  2467.70  0.008563    -0.003983      0   \n",
       "1893        1893  2018-12-27  2442.50  2488.83 -0.001242     0.005984      1   \n",
       "1894        1894  2018-12-28  2498.77  2485.74  0.008492    -0.000650      0   \n",
       "1895        1895  2018-12-31  2498.94  2506.85  0.001269     0.001597      1   \n",
       "\n",
       "     signal  bsPrice  point  \n",
       "0       buy  1278.40   0.00  \n",
       "1      hold     0.00   0.00  \n",
       "2      hold     0.00   0.00  \n",
       "3      sell  1283.04   4.64  \n",
       "4       buy  1268.44   0.00  \n",
       "...     ...      ...    ...  \n",
       "1891   hold     0.00   0.00  \n",
       "1892   hold     0.00   0.00  \n",
       "1893    buy  2498.77   0.00  \n",
       "1894   sell  2498.94   0.17  \n",
       "1895    buy  2476.96   0.00  \n",
       "\n",
       "[1896 rows x 10 columns]"
      ]
     },
     "execution_count": 2,
     "metadata": {},
     "output_type": "execute_result"
    }
   ],
   "source": [
    "df = pd.read_csv('df_return_nn_clf.csv')\n",
    "train_size = int(0.778 * df.shape[0])\n",
    "df_train = df[:train_size]\n",
    "df_test = df[train_size:]\n",
    "df_train"
   ]
  },
  {
   "cell_type": "code",
   "execution_count": 3,
   "metadata": {},
   "outputs": [
    {
     "name": "stdout",
     "output_type": "stream",
     "text": [
      "Total trade: 491 , Trades in training: 383 , Trades in testing: 108\n"
     ]
    }
   ],
   "source": [
    "df = df[df.point!=0.0]\n",
    "df_train = df_train[df_train.point!=0.0]\n",
    "df_test = df_test[df_test.point!=0.0]\n",
    "print('Total trade:',df.shape[0],', Trades in training:',\n",
    "      df_train.shape[0],', Trades in testing:',df_test.shape[0])\n"
   ]
  },
  {
   "cell_type": "code",
   "execution_count": 4,
   "metadata": {},
   "outputs": [
    {
     "name": "stdout",
     "output_type": "stream",
     "text": [
      "2011-2021 winning and lose, Winning: 338 , loss: 153\n"
     ]
    }
   ],
   "source": [
    "df_win = df[df.point > 0]\n",
    "df_loss = df[df.point <0]\n",
    "print('2011-2021 winning and lose, Winning:', df_win.shape[0],', loss:',df_loss.shape[0])\n"
   ]
  },
  {
   "cell_type": "code",
   "execution_count": 5,
   "metadata": {},
   "outputs": [
    {
     "name": "stdout",
     "output_type": "stream",
     "text": [
      "2011-2018 winning and lose, Winning: 268 , loss: 115\n"
     ]
    }
   ],
   "source": [
    "df_train_win = df_train[df_train.point > 0]\n",
    "df_train_loss = df_train[df_train.point <0]\n",
    "print('2011-2018 winning and lose, Winning:', df_train_win.shape[0],', loss:',df_train_loss.shape[0])"
   ]
  },
  {
   "cell_type": "code",
   "execution_count": 6,
   "metadata": {},
   "outputs": [
    {
     "name": "stdout",
     "output_type": "stream",
     "text": [
      "2019-2021 winning and lose, Winning: 70 , loss: 38\n"
     ]
    }
   ],
   "source": [
    "df_test_win = df_test[df_test.point > 0]\n",
    "df_test_loss = df_test[df_test.point <0]\n",
    "print('2019-2021 winning and lose, Winning:', df_test_win.shape[0],', loss:',df_test_loss.shape[0])"
   ]
  }
 ],
 "metadata": {
  "kernelspec": {
   "display_name": "Python 3",
   "language": "python",
   "name": "python3"
  },
  "language_info": {
   "codemirror_mode": {
    "name": "ipython",
    "version": 3
   },
   "file_extension": ".py",
   "mimetype": "text/x-python",
   "name": "python",
   "nbconvert_exporter": "python",
   "pygments_lexer": "ipython3",
   "version": "3.8.5"
  },
  "varInspector": {
   "cols": {
    "lenName": 16,
    "lenType": 16,
    "lenVar": 40
   },
   "kernels_config": {
    "python": {
     "delete_cmd_postfix": "",
     "delete_cmd_prefix": "del ",
     "library": "var_list.py",
     "varRefreshCmd": "print(var_dic_list())"
    },
    "r": {
     "delete_cmd_postfix": ") ",
     "delete_cmd_prefix": "rm(",
     "library": "var_list.r",
     "varRefreshCmd": "cat(var_dic_list()) "
    }
   },
   "types_to_exclude": [
    "module",
    "function",
    "builtin_function_or_method",
    "instance",
    "_Feature"
   ],
   "window_display": true
  }
 },
 "nbformat": 4,
 "nbformat_minor": 4
}
